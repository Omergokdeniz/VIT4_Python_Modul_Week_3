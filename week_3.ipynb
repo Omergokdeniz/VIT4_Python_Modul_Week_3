# VIT4_Python_Modul_Week_3

### Question 1: Task Manager Application

Project Description: In this assignment, you will create a task manager application using the Python programming language. This application will allow users to add, complete, delete, and list their tasks.

##### Requirements:

1- Tasks will be stored in a Python list and each task will be represented as a dictionary. Each task must have the following properties:

* Sequence Number (Automatically assigned)

* Task Name

* Status (Completed, Pending, or Deleted)

2- Operations that the user can perform:

* Add a new task

* Complete a task

* Delete a task

* List completed tasks

* List all tasks with their status

* Exit

3- Tasks should automatically receive a sequence number in the order they are added.

4- New tasks should be saved in place of the numbers of deleted tasks.

5- When listing tasks, they should be sorted by their sequence number.

6- Appropriate feedback should be given to the user after each operation. For example, when a new task is added, they should see a message indicating that the task has been added.
